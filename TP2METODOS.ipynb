{
 "cells": [
  {
   "cell_type": "markdown",
   "metadata": {},
   "source": [
    "Requiere los siguientes archivos de texto en el directorio:\n",
    "imdb_small.csv ,\n",
    "wiki-news-300d-1M.vec"
   ]
  },
  {
   "cell_type": "code",
   "execution_count": 2,
   "metadata": {},
   "outputs": [],
   "source": [
    "#Módulos para implementar el algoritmo de clasificación / álgebra lineal.\n",
    "import numpy as np\n",
    "import matplotlib.pyplot as plt\n",
    "import pandas as pd\n",
    "from sklearn.neighbors import KNeighborsClassifier\n",
    "from sklearn.metrics import accuracy_score\n",
    "\n",
    "#Modulos para pre-procesar las reviews. (Es decir, eliminar puntuación / Stop Words / Mayúsculas)\n",
    "import nltk\n",
    "from nltk.tokenize import punkt\n",
    "from nltk.corpus import stopwords\n",
    "nltk.download('stopwords')\n",
    "\n",
    "#Módulo para nada\n",
    "import fasttext\n",
    "\n",
    "#Módulo para leer archivos\n",
    "import io\n",
    "\n"
   ]
  },
  {
   "cell_type": "code",
   "execution_count": 11,
   "metadata": {},
   "outputs": [
    {
     "name": "stdout",
     "output_type": "stream",
     "text": [
      "(12500, 5)\n",
      "Cantidad de documentos: 12500\n"
     ]
    },
    {
     "data": {
      "text/html": [
       "<div>\n",
       "<style scoped>\n",
       "    .dataframe tbody tr th:only-of-type {\n",
       "        vertical-align: middle;\n",
       "    }\n",
       "\n",
       "    .dataframe tbody tr th {\n",
       "        vertical-align: top;\n",
       "    }\n",
       "\n",
       "    .dataframe thead th {\n",
       "        text-align: right;\n",
       "    }\n",
       "</style>\n",
       "<table border=\"1\" class=\"dataframe\">\n",
       "  <thead>\n",
       "    <tr style=\"text-align: right;\">\n",
       "      <th></th>\n",
       "      <th>Unnamed: 0</th>\n",
       "      <th>type</th>\n",
       "      <th>review</th>\n",
       "      <th>label</th>\n",
       "      <th>file</th>\n",
       "    </tr>\n",
       "  </thead>\n",
       "  <tbody>\n",
       "    <tr>\n",
       "      <th>0</th>\n",
       "      <td>19631</td>\n",
       "      <td>test</td>\n",
       "      <td>This movie is my families favorite Christmas m...</td>\n",
       "      <td>pos</td>\n",
       "      <td>5169_10.txt</td>\n",
       "    </tr>\n",
       "    <tr>\n",
       "      <th>1</th>\n",
       "      <td>32878</td>\n",
       "      <td>train</td>\n",
       "      <td>Spoiler below, but read on or you'll never kno...</td>\n",
       "      <td>neg</td>\n",
       "      <td>5841_1.txt</td>\n",
       "    </tr>\n",
       "    <tr>\n",
       "      <th>2</th>\n",
       "      <td>28509</td>\n",
       "      <td>train</td>\n",
       "      <td>One of the worst romantic comedies (nay, worst...</td>\n",
       "      <td>neg</td>\n",
       "      <td>1909_1.txt</td>\n",
       "    </tr>\n",
       "    <tr>\n",
       "      <th>3</th>\n",
       "      <td>32451</td>\n",
       "      <td>train</td>\n",
       "      <td>An actor asks, \"What's my motivation?,\" to und...</td>\n",
       "      <td>neg</td>\n",
       "      <td>5457_1.txt</td>\n",
       "    </tr>\n",
       "    <tr>\n",
       "      <th>4</th>\n",
       "      <td>45002</td>\n",
       "      <td>train</td>\n",
       "      <td>Whether this movie is propaganda or not (I fir...</td>\n",
       "      <td>pos</td>\n",
       "      <td>5502_10.txt</td>\n",
       "    </tr>\n",
       "  </tbody>\n",
       "</table>\n",
       "</div>"
      ],
      "text/plain": [
       "   Unnamed: 0   type                                             review label  \\\n",
       "0       19631   test  This movie is my families favorite Christmas m...   pos   \n",
       "1       32878  train  Spoiler below, but read on or you'll never kno...   neg   \n",
       "2       28509  train  One of the worst romantic comedies (nay, worst...   neg   \n",
       "3       32451  train  An actor asks, \"What's my motivation?,\" to und...   neg   \n",
       "4       45002  train  Whether this movie is propaganda or not (I fir...   pos   \n",
       "\n",
       "          file  \n",
       "0  5169_10.txt  \n",
       "1   5841_1.txt  \n",
       "2   1909_1.txt  \n",
       "3   5457_1.txt  \n",
       "4  5502_10.txt  "
      ]
     },
     "execution_count": 11,
     "metadata": {},
     "output_type": "execute_result"
    }
   ],
   "source": [
    "#Leo la data\n",
    "df = pd.read_csv(r\"C:\\Users\\Guest123\\Desktop\\imdb_small.csv\")\n",
    "\n",
    "print(df.shape)\n",
    "\n",
    "print(\"Cantidad de documentos: {}\".format(df.shape[0]))\n",
    "\n",
    "df.head(5)\n"
   ]
  },
  {
   "cell_type": "code",
   "execution_count": 13,
   "metadata": {},
   "outputs": [
    {
     "name": "stdout",
     "output_type": "stream",
     "text": [
      "Cantidad de instancias de entrenamiento = 6225\n",
      "Cantidad de instancias de test = 6275\n"
     ]
    }
   ],
   "source": [
    "text_train = df[df.type == 'train'][\"review\"]\n",
    "label_train = df[df.type == 'train'][\"label\"]\n",
    "\n",
    "text_test = df[df.type == 'test'][\"review\"]\n",
    "label_test = df[df.type == 'test'][\"label\"]\n",
    "\n",
    "print(\"Cantidad de instancias de entrenamiento = {}\".format(len(text_train)))\n",
    "print(\"Cantidad de instancias de test = {}\".format(len(text_test)))"
   ]
  },
  {
   "cell_type": "code",
   "execution_count": 14,
   "metadata": {},
   "outputs": [
    {
     "name": "stdout",
     "output_type": "stream",
     "text": [
      "Class balance : 0.49493975903614457 pos 0.5050602409638554 neg\n"
     ]
    }
   ],
   "source": [
    "#print(\"Class balance : {} pos {} neg\".format(\n",
    "    (label_train == 'pos').sum() / label_train.shape[0], \n",
    "    (label_train == 'neg').sum() / label_train.shape[0]\n",
    "))"
   ]
  },
  {
   "cell_type": "code",
   "execution_count": 107,
   "metadata": {},
   "outputs": [
    {
     "name": "stderr",
     "output_type": "stream",
     "text": [
      "[nltk_data] Downloading package stopwords to\n",
      "[nltk_data]     C:\\Users\\Guest123\\AppData\\Roaming\\nltk_data...\n",
      "[nltk_data]   Package stopwords is already up-to-date!\n"
     ]
    },
    {
     "name": "stdout",
     "output_type": "stream",
     "text": [
      "Accuracy: 0.7493227091633466\n"
     ]
    }
   ],
   "source": [
    "#Input : archivo de texto en donde c/línea contiene una palabra junto a su word embedding. \n",
    "#Los descargué de la página de FastText (Librería de Facebook AI Research)\n",
    "#Output: data : un diccionario de palabras -> embeddings.\n",
    "def load_vectors(fname):\n",
    "    fin = io.open(fname, 'r', encoding='utf-8', newline='\\n', errors='ignore')\n",
    "    n, d = map(int, fin.readline().split())\n",
    "    data = {}\n",
    "    for line in fin:\n",
    "        tokens = line.rstrip().split(' ')\n",
    "        data[tokens[0]] = np.array(list(map(float,tokens[1:])))\n",
    "    return data    \n",
    "    \n",
    "data = load_vectors('wiki-news-300d-1M.vec')\n",
    "\n",
    "#Cantidad de dimensiones en la que se van a representar los embeddings\n",
    "vocabulary_size = data.get(list(data.keys())[0]).shape[0]\n",
    "\n",
    "#El vocabulario. (Es decir, la lista de palabras que conocemos)\n",
    "vocabulary = data.keys()\n",
    "\n",
    "#Cantidad de datos de entrenamiento. (# de reviews)\n",
    "num_training_examples = len(text_train.values)\n",
    "\n",
    "#Inicializamos la matriz que va a almacenar los datos de entrenamiento ya transformados en sus embeddings correspondientes.\n",
    "training_matrix = np.zeros((num_training_examples, vocabulary_size))\n",
    "\n",
    "\n",
    "#Recorremos las reviews.\n",
    "for i in range(num_training_examples): \n",
    "    \n",
    "    #Se inicializa un vector de ceros para representar el embedding asociado a el i-ésimo review\n",
    "    embedding = np.zeros(vocabulary_size) \n",
    "    \n",
    "    #Preprocesamiento de la data utilizando los módulos mencionados anteriormente. \n",
    "    \n",
    "    #Se elimina puntuación.\n",
    "    token_list2 = list(filter(lambda token : punkt.PunktToken(token).is_non_punct,text_train.values[i].split()))\n",
    "    #Se transforman las palabras en minúscula\n",
    "    token_list3 = [word.lower() for word in token_list2]\n",
    "    #Se eliminan stop-words. \n",
    "    token_list4 = list(filter(lambda token: token not in stopwords.words(\"english\"),token_list3))\n",
    "    \n",
    "    #Recorremos las palabras de la review i-ésima.\n",
    "    for word in token_list4: \n",
    "        if word in vocabulary: \n",
    "            embedding = embedding + data.get(word)\n",
    "    embedding = embedding / len(token_list4)\n",
    "    \n",
    "    #Almacenamos el embedding asociado a la i-ésima review en la fila i-ésima de la matriz de entrenamiento.\n",
    "    training_matrix[i] = embedding\n",
    "\n",
    "#Se actualizan las etiquetas de entrenamiento a un vector de booleanos.\n",
    "y_train = (label_train == 'pos').values\n",
    "\n",
    "\n",
    "#Se repite exactamente el mismo proceso para los datos de entrenamiento. (Omito los comentarios por ser análogo)\n",
    "num_testing_examples = len(text_test.values)\n",
    "\n",
    "testing_matrix = np.zeros((num_testing_examples, vocabulary_size))\n",
    "\n",
    "for i in range(num_testing_examples):\n",
    "    \n",
    "    token_list2 = list(filter(lambda token : punkt.PunktToken(token).is_non_punct,text_test.values[i].split()))\n",
    "    token_list3 = [word.lower() for word in token_list2]\n",
    "    token_list4 = list(filter(lambda token: token not in stopwords.words(\"english\"),token_list3))\n",
    "    \n",
    "    embedding = np.zeros(vocabulary_size) \n",
    "    for word in token_list4: \n",
    "        if word in vocabulary: \n",
    "            embedding = embedding + data.get(word) \n",
    "    embedding = embedding / len(token_list4)\n",
    "    \n",
    "    testing_matrix[i] = embedding\n",
    "\n",
    "label_test = df[df.type == 'test'][\"label\"]\n",
    "y_test = (label_test == 'pos').values\n"
   ]
  },
  {
   "cell_type": "code",
   "execution_count": null,
   "metadata": {},
   "outputs": [],
   "source": [
    "#Ajustamos el clasificador a nuestra data de entreamiento y realizamos las predicciones sobre los datos de test.\n",
    "\n",
    "clf = KNeighborsClassifier(n_neighbors=36)\n",
    "\n",
    "clf.fit(training_matrix, y_train)\n",
    "\n",
    "y_pred = clf.predict(testing_matrix)\n",
    "\n",
    "acc = accuracy_score(y_test, y_pred)\n",
    "print(\"Accuracy: {}\".format(acc))"
   ]
  },
  {
   "cell_type": "code",
   "execution_count": 108,
   "metadata": {},
   "outputs": [
    {
     "data": {
      "text/plain": [
       "Text(0, 0.5, 'Mean Error')"
      ]
     },
     "execution_count": 108,
     "metadata": {},
     "output_type": "execute_result"
    },
    {
     "data": {
      "image/png": "[encoded data removed]",
      "text/plain": [
       "<Figure size 864x432 with 1 Axes>"
      ]
     },
     "metadata": {
      "needs_background": "light"
     },
     "output_type": "display_data"
    }
   ],
   "source": [
    "#Probamos distintos valores del hiperparámetro K.\n",
    "\n",
    "error = []\n",
    "\n",
    "for i in range(1,50):\n",
    "    knn = KNeighborsClassifier(n_neighbors=i)\n",
    "    knn.fit(training_matrix, y_train)\n",
    "    y_pred = knn.predict(testing_matrix)\n",
    "    error.append(np.mean(y_pred != y_test))\n",
    "    \n",
    "plt.figure(figsize=(12, 6))\n",
    "plt.plot(range(1, 50), error, color='red', linestyle='dashed', marker='o',\n",
    "         markerfacecolor='blue', markersize=10)\n",
    "plt.title('Error Rate K Value')\n",
    "plt.xlabel('K Value')\n",
    "plt.ylabel('Mean Error')"
   ]
  },
  {
   "cell_type": "code",
   "execution_count": 112,
   "metadata": {},
   "outputs": [
    {
     "name": "stdout",
     "output_type": "stream",
     "text": [
      "Accuracy máxima: 0.7582470119521912\n",
      "Se alcanza con k = 45\n"
     ]
    }
   ],
   "source": [
    "print(\"Accuracy máxima: {}\".format(1-min(error)))\n",
    "print(\"Se alcanza con k = {}\".format(error.index(min(error))+1))"
   ]
  }
 ],
 "metadata": {
  "kernelspec": {
   "display_name": "Python 3",
   "language": "python",
   "name": "python3"
  },
  "language_info": {
   "codemirror_mode": {
    "name": "ipython",
    "version": 3
   },
   "file_extension": ".py",
   "mimetype": "text/x-python",
   "name": "python",
   "nbconvert_exporter": "python",
   "pygments_lexer": "ipython3",
   "version": "3.7.3"
  }
 },
 "nbformat": 4,
 "nbformat_minor": 2
}
